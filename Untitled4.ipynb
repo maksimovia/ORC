{
 "cells": [
  {
   "cell_type": "code",
   "execution_count": 9,
   "id": "0baf4942",
   "metadata": {},
   "outputs": [
    {
     "name": "stdout",
     "output_type": "stream",
     "text": [
      "0.09531\n"
     ]
    }
   ],
   "source": [
    "import prop\n",
    "import pandas as pd\n",
    "import matplotlib.pyplot as plt\n",
    "from modules import pump, regen, heater, turbine, condenser\n",
    "\n",
    "#Таблица с потоками и блоками:\n",
    "streams = pd.read_excel(\"streams.xlsx\",index_col=0)\n",
    "blocks  = pd.read_excel(\"blocks.xlsx\" ,index_col=0)\n",
    "\n",
    "#Параметры нагревающей среды:\n",
    "gas  = 'REFPROP::N2[0.78]&O2[0.1]&CO2[0.02]&H2O[0.1]' #Состав газа\n",
    "Tin  = 183.6                                           #Температура газов на входе\n",
    "Pgas = 0.1                                             #Давление газов\n",
    "Ggas = 509                                             #Расход газов\n",
    "Tout = 80                                              #Температура газов на выходе\n",
    "\n",
    "#Параметры охлаждающей среды:\n",
    "fluidcond  = \"REFPROP::WATER\" #Охлаждающая среда\n",
    "Tfluidcond = 15               #Температура охл. среды\n",
    "Pfluidcond = 0.5              #Давление охл. среды\n",
    "\n",
    "#Параметры ОЦР:\n",
    "fluid   = \"REFPROP::R236ea\"       #Рабочая среда цикла\n",
    "KPDpump = 0.85                    #КПД насоса\n",
    "KPDturb = 0.85                    #КПД турбины\n",
    "DTheat  = 10                      #Минимальный напор в нагревателе\n",
    "DTcond  = 5                       #Минимальный напор в конденсаторе\n",
    "Pcond   = prop.t_q(30,0,fluid)['P']               #Давление в конденсаторе\n",
    "\n",
    "#Первое приближение\n",
    "\n",
    "Ppump   = 4.6\n",
    "dPreg1 = 0\n",
    "dTreg   = 35\n",
    "\n",
    "dPreg2  = dPreg1\n",
    "\n",
    "\n",
    "streams = pd.read_excel(\"streams.xlsx\",index_col=0)\n",
    "blocks  = pd.read_excel(\"blocks.xlsx\" ,index_col=0)\n",
    "\n",
    "#Внесение входных данных в таблицу:\n",
    "streams.loc[\"IN-HEAT\", \"T\":\"Q\"] = [Tin,Pgas,prop.t_p(Tin,Pgas,gas)[\"H\"],prop.t_p(Tin,Pgas,gas)[\"S\"],Ggas,1]\n",
    "streams.loc[\"IN-COND\", \"T\":\"Q\"] = [Tfluidcond,Pfluidcond,prop.t_p(Tfluidcond,Pfluidcond,fluidcond)[\"H\"],prop.t_p(Tfluidcond,Pfluidcond,fluidcond)[\"S\"],1000,0]\n",
    "\n",
    "#Начало расчёта - задание расхода на первой итерации:\n",
    "G = Ggas*(prop.t_p(Tin,Pgas,gas)[\"H\"]-prop.t_p(Tout,Pgas,gas)[\"H\"])/(prop.t_p(Tin,Ppump,fluid)[\"H\"]-prop.t_p(Tout,Ppump,fluid)[\"H\"])\n",
    "\n",
    "#Поток перед насосом:\n",
    "streams.loc[\"COND-PUMP\", \"T\":\"Q\"] = [prop.p_q(Pcond,0,fluid)[\"T\"],Pcond,prop.p_q(Pcond,0,fluid)['H'],prop.p_q(Pcond,0,fluid)['S'],G,0]\n",
    "\n",
    "#Итеративный расчет для сведения баланса:\n",
    "for i in range(1000):\n",
    "    #Расчет цикла:\n",
    "    pump.calc     (\"COND-PUMP\", \"PUMP-REG\",                          Ppump,  KPDpump,     fluid, streams, blocks)\n",
    "    regen.calc    (\"TURB-REG\",  \"REG-COND\",  \"PUMP-REG\",\"REG-HEAT\",  dTreg, dPreg1,dPreg2,fluid, streams, blocks)\n",
    "    heater.calc   (\"IN-HEAT\",   \"HEAT-OUT\",  \"REG-HEAT\",\"HEAT-TURB\", Tout,   DTheat, gas, fluid, streams, blocks)\n",
    "    turbine.calc  (\"HEAT-TURB\", \"TURB-REG\",                          Pcond+dPreg1,  KPDturb,fluid, streams, blocks)\n",
    "    regen.calc    (\"TURB-REG\",  \"REG-COND\",  \"PUMP-REG\",\"REG-HEAT\",  dTreg, dPreg1,dPreg2,fluid, streams, blocks)\n",
    "    condenser.calc(\"REG-COND\",  \"COND-PUMP\", \"IN-COND\" ,\"COND-OUT\",  DTcond, fluidcond,   fluid, streams, blocks)\n",
    "    Qbalance = blocks.loc['HEATER','Q']+blocks.loc['PUMP','N']-blocks.loc['CONDENSER','Q']-blocks.loc['TURBINE','N']\n",
    "    if abs(Qbalance) < 1:\n",
    "        break\n",
    "fi = (streams.loc[\"TURB-REG\", \"T\"] -streams.loc[\"REG-COND\", \"T\"]) / (streams.loc[\"TURB-REG\", \"T\"]-streams.loc[\"PUMP-REG\", \"T\"])\n",
    "\n",
    "KPD = (blocks.loc['TURBINE','N']-blocks.loc['PUMP','N'])/blocks.loc['HEATER','Q']\n",
    "\n",
    "\n",
    "print(round(fi,5))\n"
   ]
  },
  {
   "cell_type": "code",
   "execution_count": null,
   "id": "23c57b96",
   "metadata": {},
   "outputs": [],
   "source": []
  }
 ],
 "metadata": {
  "kernelspec": {
   "display_name": "Python 3 (ipykernel)",
   "language": "python",
   "name": "python3"
  },
  "language_info": {
   "codemirror_mode": {
    "name": "ipython",
    "version": 3
   },
   "file_extension": ".py",
   "mimetype": "text/x-python",
   "name": "python",
   "nbconvert_exporter": "python",
   "pygments_lexer": "ipython3",
   "version": "3.9.12"
  }
 },
 "nbformat": 4,
 "nbformat_minor": 5
}
