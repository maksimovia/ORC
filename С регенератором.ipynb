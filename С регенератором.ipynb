{
 "cells": [
  {
   "cell_type": "code",
   "execution_count": null,
   "id": "f62b0677",
   "metadata": {
    "scrolled": false
   },
   "outputs": [
    {
     "name": "stdout",
     "output_type": "stream",
     "text": [
      "0 4690.61693\n",
      "1 -2527.72998\n",
      "2 1135.02076\n",
      "3 -534.89712\n",
      "4 247.57275\n",
      "5 -111.7268\n",
      "6 49.91661\n",
      "7 -22.38318\n",
      "8 10.02048\n",
      "9 -4.49148\n",
      "10 2.01408\n",
      "11 -0.90588\n",
      "12 0.40803\n",
      "13 -0.18047\n",
      "14 0.07607\n",
      "15 -0.03465\n",
      "16 0.01626\n",
      "17 0.01029\n",
      "18 -0.02017\n",
      "19 -0.01567\n",
      "20 0.03009\n"
     ]
    }
   ],
   "source": [
    "import prop\n",
    "import pandas as pd\n",
    "import matplotlib.pyplot as plt\n",
    "from modules import pump, regen, heater, turbine, condenser\n",
    "\n",
    "#Таблица с потоками и блоками:\n",
    "streams = pd.read_excel(\"streams.xlsx\",index_col=0)\n",
    "blocks  = pd.read_excel(\"blocks.xlsx\" ,index_col=0)\n",
    "\n",
    "#Параметры нагревающей среды:\n",
    "gas  = 'REFPROP::N2[0.7757]&O2[0.1068]&CO2[0.0193]&H2O[0.0936]&Ar[0.0046]' #Состав газа\n",
    "Tin  = 183.6                                                               #Температура газов на входе\n",
    "Pgas = 0.1                                                                 #Давление газов\n",
    "Ggas = 509                                                                 #Расход газов\n",
    "Tout = 80                                                                  #Температура газов на выходе\n",
    "\n",
    "#Параметры охлаждающей среды:\n",
    "fluidcond  = \"REFPROP::WATER\" #Охлаждающая среда\n",
    "Tfluidcond = 15               #Температура охл. среды\n",
    "Pfluidcond = 0.5              #Давление охл. среды\n",
    "\n",
    "#Параметры ОЦР:\n",
    "fluid   = \"REFPROP::R236ea\"   #Рабочая среда цикла\n",
    "Ppump   = 3.3                 #Давление на выходе из насоса\n",
    "Pcond   = 0.244               #Давление в конденсаторе\n",
    "KPDpump = 0.8                 #КПД насоса\n",
    "KPDturb = 0.9                 #КПД турбины\n",
    "DTheat  = 20                  #Минимальный напор в нагревателе\n",
    "DTreg   = 5                   #Минимальный напор в регенераторе\n",
    "DTcond  = 5                   #Минимальный напор в конденсаторе\n",
    "\n",
    "#Внесение входных данных в таблицу:\n",
    "streams.loc[\"IN-HEAT\", \"T\":\"Q\"] = [Tin,Pgas,prop.t_p(Tin,Pgas,gas)[\"H\"],prop.t_p(Tin,Pgas,gas)[\"S\"],Ggas,1]\n",
    "streams.loc[\"IN-COND\", \"T\":\"Q\"] = [Tfluidcond,Pfluidcond,prop.t_p(Tfluidcond,Pfluidcond,fluidcond)[\"H\"],prop.t_p(Tfluidcond,Pfluidcond,fluidcond)[\"S\"],1000,0]\n",
    "\n",
    "#Начало расчёта - задание расхода на первой итерации:\n",
    "G = Ggas*(prop.t_p(Tin,Pgas,gas)[\"H\"]-prop.t_p(Tout,Pgas,gas)[\"H\"])/(prop.t_p(Tin,Ppump,fluid)[\"H\"]-prop.t_p(Tout,Ppump,fluid)[\"H\"])\n",
    "\n",
    "#Поток перед насосом:\n",
    "streams.loc[\"COND-PUMP\", \"T\":\"Q\"] = [prop.p_q(Pcond,0,fluid)[\"T\"],Pcond,prop.p_q(Pcond,0,fluid)['H'],prop.p_q(Pcond,0,fluid)['S'],G,0]\n",
    "\n",
    "#Итеративный расчет для сведения баланса:\n",
    "for i in range(100):\n",
    "    \n",
    "    #Расчет цикла:\n",
    "    pump.calc     (\"COND-PUMP\", \"PUMP-REG\",                          Ppump,  KPDpump,     fluid, streams, blocks)\n",
    "    regen.calc    (\"TURB-REG\",  \"REG-COND\",  \"PUMP-REG\",\"REG-HEAT\",  DTreg,               fluid, streams, blocks)\n",
    "    heater.calc   (\"IN-HEAT\",   \"HEAT-OUT\",  \"REG-HEAT\",\"HEAT-TURB\", Tout,   DTheat, gas, fluid, streams, blocks)\n",
    "    turbine.calc  (\"HEAT-TURB\", \"TURB-REG\",                          Pcond,  KPDturb,     fluid, streams, blocks)\n",
    "    regen.calc    (\"TURB-REG\",  \"REG-COND\",  \"PUMP-REG\",\"REG-HEAT\",  DTreg,               fluid, streams, blocks)\n",
    "    condenser.calc(\"REG-COND\",  \"COND-PUMP\", \"IN-COND\" ,\"COND-OUT\",  DTcond, fluidcond,   fluid, streams, blocks)\n",
    "    \n",
    "    #Тепловой баланс:\n",
    "    Qbalance = blocks.loc['HEATER','Q']+blocks.loc['PUMP','N']-blocks.loc['CONDENSER','Q']-blocks.loc['TURBINE','N']\n",
    "    print(i,round(Qbalance,5))\n",
    "    \n",
    "    #Выход из цикла при сведении баланса до требуемого уровня (в кВт):\n",
    "    if abs(Qbalance) < 10**-2:\n",
    "        print('+')\n",
    "        break"
   ]
  },
  {
   "cell_type": "code",
   "execution_count": null,
   "id": "114a9601",
   "metadata": {},
   "outputs": [],
   "source": [
    "#КПД цикла:\n",
    "KPD = 100*(blocks.loc['TURBINE','N']-blocks.loc['PUMP','N'])/blocks.loc['HEATER','Q']\n",
    "print('КПД цикла: ', round(KPD,3),'%')"
   ]
  },
  {
   "cell_type": "code",
   "execution_count": null,
   "id": "3f66f45e",
   "metadata": {},
   "outputs": [],
   "source": [
    "streams"
   ]
  },
  {
   "cell_type": "code",
   "execution_count": null,
   "id": "b7474011",
   "metadata": {},
   "outputs": [],
   "source": [
    "blocks"
   ]
  },
  {
   "cell_type": "code",
   "execution_count": null,
   "id": "360defb0",
   "metadata": {},
   "outputs": [],
   "source": [
    "#Вывод T-Q:\n",
    "plt.figure(figsize=(16,4))\n",
    "plt.subplot(1, 3, 1)\n",
    "heater.TQ(\"IN-HEAT\",\"HEAT-OUT\",\"REG-HEAT\",\"HEAT-TURB\",gas,fluid,streams)\n",
    "plt.subplot(1, 3, 2)\n",
    "regen.TQ(\"TURB-REG\",\"REG-COND\",\"PUMP-REG\",\"REG-HEAT\",fluid,streams)\n",
    "plt.subplot(1, 3, 3)\n",
    "condenser.TQ(\"REG-COND\",\"COND-PUMP\",\"IN-COND\",\"COND-OUT\",fluidcond,fluid,streams)\n",
    "plt.show()"
   ]
  },
  {
   "cell_type": "code",
   "execution_count": null,
   "id": "f9dd62b3",
   "metadata": {},
   "outputs": [],
   "source": []
  }
 ],
 "metadata": {
  "kernelspec": {
   "display_name": "Python 3 (ipykernel)",
   "language": "python",
   "name": "python3"
  },
  "language_info": {
   "codemirror_mode": {
    "name": "ipython",
    "version": 3
   },
   "file_extension": ".py",
   "mimetype": "text/x-python",
   "name": "python",
   "nbconvert_exporter": "python",
   "pygments_lexer": "ipython3",
   "version": "3.9.12"
  }
 },
 "nbformat": 4,
 "nbformat_minor": 5
}
