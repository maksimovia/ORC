{
 "cells": [
  {
   "cell_type": "code",
   "execution_count": 7,
   "id": "f62b0677",
   "metadata": {
    "scrolled": false
   },
   "outputs": [
    {
     "name": "stdout",
     "output_type": "stream",
     "text": [
      "0 4578.75554\n",
      "1 -2409.96571\n",
      "2 1062.46193\n",
      "3 -487.80733\n",
      "4 215.45433\n",
      "5 -96.76626\n",
      "6 43.13508\n",
      "7 -19.29156\n",
      "8 8.61692\n",
      "9 -3.85254\n",
      "10 1.71936\n",
      "11 -0.76866\n",
      "12 0.34783\n",
      "13 -0.15861\n",
      "14 0.07251\n",
      "15 -0.02942\n",
      "16 0.01293\n",
      "17 -0.01128\n",
      "18 0.00537\n",
      "+\n"
     ]
    },
    {
     "name": "stderr",
     "output_type": "stream",
     "text": [
      "C:\\maximov\\py\\Github\\ORC\\modules.py:288: RuntimeWarning: invalid value encountered in sqrt\n",
      "  right = 1/(2*n.log10((2.51/(Re2*(x)**(1/2)))+(delta/3.7)))**2\n"
     ]
    }
   ],
   "source": [
    "import prop\n",
    "import pandas as pd\n",
    "import matplotlib.pyplot as plt\n",
    "from modules import pump, regen, heater, turbine, condenser\n",
    "\n",
    "#Таблица с потоками и блоками:\n",
    "streams = pd.read_excel(\"streams.xlsx\",index_col=0)\n",
    "blocks  = pd.read_excel(\"blocks.xlsx\" ,index_col=0)\n",
    "\n",
    "#Параметры нагревающей среды:\n",
    "gas  = 'REFPROP::N2[0.7757]&O2[0.1068]&CO2[0.0193]&H2O[0.0936]&Ar[0.0046]' #Состав газа\n",
    "Tin  = 183.6                                                               #Температура газов на входе\n",
    "Pgas = 0.1                                                                 #Давление газов\n",
    "Ggas = 509                                                                 #Расход газов\n",
    "Tout = 80                                                                  #Температура газов на выходе\n",
    "\n",
    "#Параметры охлаждающей среды:\n",
    "fluidcond  = \"REFPROP::WATER\" #Охлаждающая среда\n",
    "Tfluidcond = 15               #Температура охл. среды\n",
    "Pfluidcond = 0.5              #Давление охл. среды\n",
    "\n",
    "#Параметры ОЦР:\n",
    "fluid   = \"REFPROP::R236ea\"   #Рабочая среда цикла\n",
    "Ppump   = 3.3                 #Давление на выходе из насоса\n",
    "KPDpump = 0.8                 #КПД насоса\n",
    "KPDturb = 0.9                 #КПД турбины\n",
    "DTheat  = 20                  #Минимальный напор в нагревателе\n",
    "DTcond  = 5                   #Минимальный напор в конденсаторе\n",
    "Pcond   = prop.t_q(30,0,fluid)['P']               #Давление в конденсаторе\n",
    "\n",
    "\n",
    "\n",
    "DTreg   = 5                   #Минимальный напор в регенераторе\n",
    "DPreg   = 50*10**-3            \n",
    "Ppump = Ppump + DPreg\n",
    "\n",
    "\n",
    "#Внесение входных данных в таблицу:\n",
    "streams.loc[\"IN-HEAT\", \"T\":\"Q\"] = [Tin,Pgas,prop.t_p(Tin,Pgas,gas)[\"H\"],prop.t_p(Tin,Pgas,gas)[\"S\"],Ggas,1]\n",
    "streams.loc[\"IN-COND\", \"T\":\"Q\"] = [Tfluidcond,Pfluidcond,prop.t_p(Tfluidcond,Pfluidcond,fluidcond)[\"H\"],prop.t_p(Tfluidcond,Pfluidcond,fluidcond)[\"S\"],1000,0]\n",
    "\n",
    "#Начало расчёта - задание расхода на первой итерации:\n",
    "G = Ggas*(prop.t_p(Tin,Pgas,gas)[\"H\"]-prop.t_p(Tout,Pgas,gas)[\"H\"])/(prop.t_p(Tin,Ppump,fluid)[\"H\"]-prop.t_p(Tout,Ppump,fluid)[\"H\"])\n",
    "\n",
    "#Поток перед насосом:\n",
    "streams.loc[\"COND-PUMP\", \"T\":\"Q\"] = [prop.p_q(Pcond,0,fluid)[\"T\"],Pcond,prop.p_q(Pcond,0,fluid)['H'],prop.p_q(Pcond,0,fluid)['S'],G,0]\n",
    "\n",
    "#Итеративный расчет для сведения баланса:\n",
    "for i in range(100):\n",
    "    \n",
    "    #Расчет цикла:\n",
    "    pump.calc     (\"COND-PUMP\", \"PUMP-REG\",                          Ppump,  KPDpump,     fluid, streams, blocks)\n",
    "    regen.calc    (\"TURB-REG\",  \"REG-COND\",  \"PUMP-REG\",\"REG-HEAT\",  DTreg,               fluid, streams, blocks)\n",
    "    heater.calc   (\"IN-HEAT\",   \"HEAT-OUT\",  \"REG-HEAT\",\"HEAT-TURB\", Tout,   DTheat, gas, fluid, streams, blocks)\n",
    "    turbine.calc  (\"HEAT-TURB\", \"TURB-REG\",                          Pcond,  KPDturb,     fluid, streams, blocks)\n",
    "    regen.calc    (\"TURB-REG\",  \"REG-COND\",  \"PUMP-REG\",\"REG-HEAT\",  DTreg,               fluid, streams, blocks)\n",
    "    condenser.calc(\"REG-COND\",  \"COND-PUMP\", \"IN-COND\" ,\"COND-OUT\",  DTcond, fluidcond,   fluid, streams, blocks)\n",
    "    \n",
    "    #Тепловой баланс:\n",
    "    Qbalance = blocks.loc['HEATER','Q']+blocks.loc['PUMP','N']-blocks.loc['CONDENSER','Q']-blocks.loc['TURBINE','N']\n",
    "    print(i,round(Qbalance,5))\n",
    "    \n",
    "    #Выход из цикла при сведении баланса до требуемого уровня (в кВт):\n",
    "    if abs(Qbalance) < 10**-2:\n",
    "        print('+')\n",
    "        break\n",
    "        \n",
    "\n",
    "regen.cost(\"TURB-REG\",  \"REG-COND\",  \"PUMP-REG\",\"REG-HEAT\",streams,blocks)\n"
   ]
  },
  {
   "cell_type": "code",
   "execution_count": 2,
   "id": "114a9601",
   "metadata": {},
   "outputs": [
    {
     "name": "stdout",
     "output_type": "stream",
     "text": [
      "КПД цикла:  16.699 %\n"
     ]
    }
   ],
   "source": [
    "#КПД цикла:\n",
    "KPD = 100*(blocks.loc['TURBINE','N']-blocks.loc['PUMP','N'])/blocks.loc['HEATER','Q']\n",
    "print('КПД цикла: ', round(KPD,3),'%')"
   ]
  },
  {
   "cell_type": "code",
   "execution_count": 3,
   "id": "3f66f45e",
   "metadata": {},
   "outputs": [
    {
     "data": {
      "text/html": [
       "<div>\n",
       "<style scoped>\n",
       "    .dataframe tbody tr th:only-of-type {\n",
       "        vertical-align: middle;\n",
       "    }\n",
       "\n",
       "    .dataframe tbody tr th {\n",
       "        vertical-align: top;\n",
       "    }\n",
       "\n",
       "    .dataframe thead th {\n",
       "        text-align: right;\n",
       "    }\n",
       "</style>\n",
       "<table border=\"1\" class=\"dataframe\">\n",
       "  <thead>\n",
       "    <tr style=\"text-align: right;\">\n",
       "      <th></th>\n",
       "      <th>T</th>\n",
       "      <th>P</th>\n",
       "      <th>H</th>\n",
       "      <th>S</th>\n",
       "      <th>G</th>\n",
       "      <th>Q</th>\n",
       "    </tr>\n",
       "  </thead>\n",
       "  <tbody>\n",
       "    <tr>\n",
       "      <th>IN-HEAT</th>\n",
       "      <td>183.600000</td>\n",
       "      <td>0.100000</td>\n",
       "      <td>615.516763</td>\n",
       "      <td>7.334542</td>\n",
       "      <td>509.000000</td>\n",
       "      <td>1.0</td>\n",
       "    </tr>\n",
       "    <tr>\n",
       "      <th>HEAT-OUT</th>\n",
       "      <td>80.000000</td>\n",
       "      <td>0.100000</td>\n",
       "      <td>503.727572</td>\n",
       "      <td>7.057047</td>\n",
       "      <td>509.000000</td>\n",
       "      <td>1.0</td>\n",
       "    </tr>\n",
       "    <tr>\n",
       "      <th>COND-PUMP</th>\n",
       "      <td>30.000000</td>\n",
       "      <td>0.244324</td>\n",
       "      <td>237.395788</td>\n",
       "      <td>1.129466</td>\n",
       "      <td>298.077444</td>\n",
       "      <td>0.0</td>\n",
       "    </tr>\n",
       "    <tr>\n",
       "      <th>PUMP-REG</th>\n",
       "      <td>31.634132</td>\n",
       "      <td>3.350000</td>\n",
       "      <td>240.139419</td>\n",
       "      <td>1.131267</td>\n",
       "      <td>298.077535</td>\n",
       "      <td>0.0</td>\n",
       "    </tr>\n",
       "    <tr>\n",
       "      <th>REG-HEAT</th>\n",
       "      <td>41.017569</td>\n",
       "      <td>3.350000</td>\n",
       "      <td>251.999168</td>\n",
       "      <td>1.169591</td>\n",
       "      <td>298.077535</td>\n",
       "      <td>0.0</td>\n",
       "    </tr>\n",
       "    <tr>\n",
       "      <th>HEAT-TURB</th>\n",
       "      <td>139.702560</td>\n",
       "      <td>3.350000</td>\n",
       "      <td>442.891486</td>\n",
       "      <td>1.679303</td>\n",
       "      <td>298.077444</td>\n",
       "      <td>1.0</td>\n",
       "    </tr>\n",
       "    <tr>\n",
       "      <th>TURB-REG</th>\n",
       "      <td>49.552660</td>\n",
       "      <td>0.244324</td>\n",
       "      <td>408.271291</td>\n",
       "      <td>1.691301</td>\n",
       "      <td>298.077444</td>\n",
       "      <td>1.0</td>\n",
       "    </tr>\n",
       "    <tr>\n",
       "      <th>REG-COND</th>\n",
       "      <td>36.634132</td>\n",
       "      <td>0.244324</td>\n",
       "      <td>396.411538</td>\n",
       "      <td>1.653796</td>\n",
       "      <td>298.077444</td>\n",
       "      <td>1.0</td>\n",
       "    </tr>\n",
       "    <tr>\n",
       "      <th>IN-COND</th>\n",
       "      <td>15.000000</td>\n",
       "      <td>0.500000</td>\n",
       "      <td>63.458441</td>\n",
       "      <td>0.224388</td>\n",
       "      <td>1087.788382</td>\n",
       "      <td>0.0</td>\n",
       "    </tr>\n",
       "    <tr>\n",
       "      <th>COND-OUT</th>\n",
       "      <td>25.416963</td>\n",
       "      <td>0.500000</td>\n",
       "      <td>107.032181</td>\n",
       "      <td>0.372938</td>\n",
       "      <td>1087.788382</td>\n",
       "      <td>0.0</td>\n",
       "    </tr>\n",
       "  </tbody>\n",
       "</table>\n",
       "</div>"
      ],
      "text/plain": [
       "                    T         P           H         S            G    Q\n",
       "IN-HEAT    183.600000  0.100000  615.516763  7.334542   509.000000  1.0\n",
       "HEAT-OUT    80.000000  0.100000  503.727572  7.057047   509.000000  1.0\n",
       "COND-PUMP   30.000000  0.244324  237.395788  1.129466   298.077444  0.0\n",
       "PUMP-REG    31.634132  3.350000  240.139419  1.131267   298.077535  0.0\n",
       "REG-HEAT    41.017569  3.350000  251.999168  1.169591   298.077535  0.0\n",
       "HEAT-TURB  139.702560  3.350000  442.891486  1.679303   298.077444  1.0\n",
       "TURB-REG    49.552660  0.244324  408.271291  1.691301   298.077444  1.0\n",
       "REG-COND    36.634132  0.244324  396.411538  1.653796   298.077444  1.0\n",
       "IN-COND     15.000000  0.500000   63.458441  0.224388  1087.788382  0.0\n",
       "COND-OUT    25.416963  0.500000  107.032181  0.372938  1087.788382  0.0"
      ]
     },
     "execution_count": 3,
     "metadata": {},
     "output_type": "execute_result"
    }
   ],
   "source": [
    "streams"
   ]
  },
  {
   "cell_type": "code",
   "execution_count": 4,
   "id": "b7474011",
   "metadata": {},
   "outputs": [
    {
     "data": {
      "text/html": [
       "<div>\n",
       "<style scoped>\n",
       "    .dataframe tbody tr th:only-of-type {\n",
       "        vertical-align: middle;\n",
       "    }\n",
       "\n",
       "    .dataframe tbody tr th {\n",
       "        vertical-align: top;\n",
       "    }\n",
       "\n",
       "    .dataframe thead th {\n",
       "        text-align: right;\n",
       "    }\n",
       "</style>\n",
       "<table border=\"1\" class=\"dataframe\">\n",
       "  <thead>\n",
       "    <tr style=\"text-align: right;\">\n",
       "      <th></th>\n",
       "      <th>N</th>\n",
       "      <th>Q</th>\n",
       "      <th>COST</th>\n",
       "    </tr>\n",
       "  </thead>\n",
       "  <tbody>\n",
       "    <tr>\n",
       "      <th>PUMP</th>\n",
       "      <td>817.814611</td>\n",
       "      <td>NaN</td>\n",
       "      <td>NaN</td>\n",
       "    </tr>\n",
       "    <tr>\n",
       "      <th>TURBINE</th>\n",
       "      <td>10319.499198</td>\n",
       "      <td>NaN</td>\n",
       "      <td>NaN</td>\n",
       "    </tr>\n",
       "    <tr>\n",
       "      <th>REGENERATOR</th>\n",
       "      <td>NaN</td>\n",
       "      <td>3535.124751</td>\n",
       "      <td>4.668948e+10</td>\n",
       "    </tr>\n",
       "    <tr>\n",
       "      <th>CONDENSER</th>\n",
       "      <td>NaN</td>\n",
       "      <td>47399.008222</td>\n",
       "      <td>NaN</td>\n",
       "    </tr>\n",
       "    <tr>\n",
       "      <th>HEATER</th>\n",
       "      <td>NaN</td>\n",
       "      <td>56900.698177</td>\n",
       "      <td>NaN</td>\n",
       "    </tr>\n",
       "  </tbody>\n",
       "</table>\n",
       "</div>"
      ],
      "text/plain": [
       "                        N             Q          COST\n",
       "PUMP           817.814611           NaN           NaN\n",
       "TURBINE      10319.499198           NaN           NaN\n",
       "REGENERATOR           NaN   3535.124751  4.668948e+10\n",
       "CONDENSER             NaN  47399.008222           NaN\n",
       "HEATER                NaN  56900.698177           NaN"
      ]
     },
     "execution_count": 4,
     "metadata": {},
     "output_type": "execute_result"
    }
   ],
   "source": [
    "blocks"
   ]
  },
  {
   "cell_type": "code",
   "execution_count": 5,
   "id": "360defb0",
   "metadata": {},
   "outputs": [
    {
     "data": {
      "image/png": "[encoded data removed]",
      "text/plain": [
       "<Figure size 1152x288 with 3 Axes>"
      ]
     },
     "metadata": {
      "needs_background": "light"
     },
     "output_type": "display_data"
    }
   ],
   "source": [
    "#Вывод T-Q:\n",
    "plt.figure(figsize=(16,4))\n",
    "plt.subplot(1, 3, 1)\n",
    "heater.TQ(\"IN-HEAT\",\"HEAT-OUT\",\"REG-HEAT\",\"HEAT-TURB\",gas,fluid,streams)\n",
    "plt.subplot(1, 3, 2)\n",
    "regen.TQ(\"TURB-REG\",\"REG-COND\",\"PUMP-REG\",\"REG-HEAT\",fluid,streams)\n",
    "plt.subplot(1, 3, 3)\n",
    "condenser.TQ(\"REG-COND\",\"COND-PUMP\",\"IN-COND\",\"COND-OUT\",fluidcond,fluid,streams)\n",
    "plt.show()"
   ]
  },
  {
   "cell_type": "code",
   "execution_count": 6,
   "id": "f9dd62b3",
   "metadata": {},
   "outputs": [
    {
     "name": "stderr",
     "output_type": "stream",
     "text": [
      "C:\\maximov\\py\\Github\\ORC\\modules.py:288: RuntimeWarning: invalid value encountered in sqrt\n",
      "  right = 1/(2*n.log10((2.51/(Re2*(x)**(1/2)))+(delta/3.7)))**2\n"
     ]
    }
   ],
   "source": [
    "regen.cost(\"TURB-REG\",  \"REG-COND\",  \"PUMP-REG\",\"REG-HEAT\",streams,blocks)\n"
   ]
  },
  {
   "cell_type": "code",
   "execution_count": null,
   "id": "869356e6",
   "metadata": {},
   "outputs": [],
   "source": []
  }
 ],
 "metadata": {
  "kernelspec": {
   "display_name": "Python 3 (ipykernel)",
   "language": "python",
   "name": "python3"
  },
  "language_info": {
   "codemirror_mode": {
    "name": "ipython",
    "version": 3
   },
   "file_extension": ".py",
   "mimetype": "text/x-python",
   "name": "python",
   "nbconvert_exporter": "python",
   "pygments_lexer": "ipython3",
   "version": "3.9.12"
  }
 },
 "nbformat": 4,
 "nbformat_minor": 5
}
