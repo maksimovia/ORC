{
 "cells": [
  {
   "cell_type": "code",
   "execution_count": 2,
   "id": "81159859",
   "metadata": {},
   "outputs": [
    {
     "name": "stdout",
     "output_type": "stream",
     "text": [
      "Requirement already satisfied: ctREFPROP in c:\\programdata\\anaconda3\\lib\\site-packages (0.10.2)\n",
      "Collecting coolprop\n",
      "  Downloading CoolProp-6.4.1-cp39-cp39-win_amd64.whl (1.9 MB)\n",
      "Collecting msvc-runtime\n",
      "  Downloading msvc_runtime-14.29.30133-cp39-cp39-win_amd64.whl (1.8 MB)\n",
      "Installing collected packages: msvc-runtime, coolprop\n",
      "Successfully installed coolprop-6.4.1 msvc-runtime-14.29.30133\n"
     ]
    }
   ],
   "source": [
    "!pip install ctREFPROP\n",
    "!pip install coolprop"
   ]
  },
  {
   "cell_type": "code",
   "execution_count": null,
   "id": "e2b0b0db",
   "metadata": {},
   "outputs": [],
   "source": [
    "path = \"C:/Program Files (x86)/REFPROP\"\n",
    "\n",
    "\n",
    "\n",
    "def h_s():\n",
    "    \n",
    "    \n",
    "    \n",
    "    return {'T':T,'P':P,'H':H,'Q':Q}"
   ]
  }
 ],
 "metadata": {
  "kernelspec": {
   "display_name": "Python 3 (ipykernel)",
   "language": "python",
   "name": "python3"
  },
  "language_info": {
   "codemirror_mode": {
    "name": "ipython",
    "version": 3
   },
   "file_extension": ".py",
   "mimetype": "text/x-python",
   "name": "python",
   "nbconvert_exporter": "python",
   "pygments_lexer": "ipython3",
   "version": "3.9.12"
  }
 },
 "nbformat": 4,
 "nbformat_minor": 5
}
