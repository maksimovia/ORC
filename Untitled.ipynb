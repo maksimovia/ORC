{
 "cells": [
  {
   "cell_type": "code",
   "execution_count": 7,
   "id": "c82c19e4",
   "metadata": {},
   "outputs": [
    {
     "name": "stdout",
     "output_type": "stream",
     "text": [
      "5.0\n"
     ]
    },
    {
     "data": {
      "text/plain": [
       "[<matplotlib.lines.Line2D at 0x16d996e05b0>,\n",
       " <matplotlib.lines.Line2D at 0x16d996e0610>]"
      ]
     },
     "execution_count": 7,
     "metadata": {},
     "output_type": "execute_result"
    },
    {
     "data": {
      "image/png": "[encoded data removed]",
      "text/plain": [
       "<Figure size 432x288 with 1 Axes>"
      ]
     },
     "metadata": {
      "needs_background": "light"
     },
     "output_type": "display_data"
    }
   ],
   "source": [
    "#                     T         P           H         S            G    Q\n",
    "# PUMP-REG    31.711578  3.500000  240.271485  1.131354   295.460532  0.0\n",
    "# REG-HEAT    43.496443  3.412715  255.168714  1.179497   295.460532  0.0\n",
    "# TURB-REG    54.734490  0.340299  411.380208  1.684078   295.445060  1.0\n",
    "# REG-COND    36.711578  0.244324  396.482198  1.654024   295.445060  1.0\n",
    "\n",
    "\n",
    "import prop\n",
    "import numpy as np\n",
    "import matplotlib.pyplot as plt\n",
    "from scipy.optimize import root\n",
    "\n",
    "\n",
    "dTmin=5\n",
    "fluid = 'REFPROP::R236ea'\n",
    "\n",
    "H11 = 411.380208\n",
    "H21 = 240.271485\n",
    "T11 = 54.734490\n",
    "T21 = 31.711578\n",
    "S11 = 1.131354\n",
    "S21 = 1.179497\n",
    "P1 = 0.244324\n",
    "P2 = 3.412715\n",
    "G1 = 295.460532\n",
    "G2 = 295.460532\n",
    "s = 10\n",
    "t1   = np.zeros(s+1)\n",
    "t2   = np.zeros(s+1)\n",
    "Q    = np.zeros(s+1)\n",
    "\n",
    "T12 = T21+dTmin\n",
    "H12 = prop.t_p(T12,P1,fluid)[\"H\"]\n",
    "step = (H11-H12)/s\n",
    "h11 = H11\n",
    "h21 = H21\n",
    "for i in range(s+1):\n",
    "    t1[i] = prop.h_p(h11,P1,fluid)[\"T\"]\n",
    "    if i < s:\n",
    "        h12 = h11-step\n",
    "        dQ = G1*(h11-h12)\n",
    "        h11 = h12\n",
    "        Q[i+1] = Q[i]+dQ\n",
    "for i in range(s+1):\n",
    "    t2[s-i] = prop.h_p(h21,P2,fluid)[\"T\"]\n",
    "    if i < s:\n",
    "        h22 = h21+(Q[s-i]-Q[s-i-1])/G2\n",
    "        h21 = h22\n",
    "T12 = t1[s]\n",
    "T22 = t2[0]\n",
    "H12 = h11\n",
    "H22 = h21\n",
    "DT=t1-t2\n",
    "minDT=round(min(DT),1)\n",
    "if minDT < dTmin:\n",
    "    print('!REGEN:minDT<dTmin=',minDT)\n",
    "S22 = prop.h_p(H22,P2,fluid)[\"S\"]\n",
    "S12 = prop.h_p(H12,P1,fluid)[\"S\"]\n",
    "Q12 = prop.h_p(H12,P1,fluid)[\"Q\"]\n",
    "Q22 = prop.h_p(H22,P2,fluid)[\"Q\"]\n",
    "print(minDT)\n",
    "plt.plot(Q,t2,Q,t1)"
   ]
  },
  {
   "cell_type": "code",
   "execution_count": null,
   "id": "7d5b71a9",
   "metadata": {},
   "outputs": [],
   "source": []
  }
 ],
 "metadata": {
  "kernelspec": {
   "display_name": "Python 3 (ipykernel)",
   "language": "python",
   "name": "python3"
  },
  "language_info": {
   "codemirror_mode": {
    "name": "ipython",
    "version": 3
   },
   "file_extension": ".py",
   "mimetype": "text/x-python",
   "name": "python",
   "nbconvert_exporter": "python",
   "pygments_lexer": "ipython3",
   "version": "3.9.12"
  }
 },
 "nbformat": 4,
 "nbformat_minor": 5
}
