{
 "cells": [
  {
   "cell_type": "code",
   "execution_count": 1,
   "id": "6f5f0d9e",
   "metadata": {},
   "outputs": [
    {
     "name": "stdout",
     "output_type": "stream",
     "text": [
      "KPD: 15.20172\n"
     ]
    }
   ],
   "source": [
    "from modules import init, pump, regen, heater, turbine, condenser\n",
    "import pandas as pd\n",
    "import prop\n",
    "\n",
    "#Таблицы с потоками и блоками:\n",
    "streams = pd.read_excel(\"data.xlsx\", sheet_name = \"SIMPLE-streams\", index_col=0)\n",
    "blocks  = pd.read_excel(\"data.xlsx\", sheet_name = \"SIMPLE-blocks\",  index_col=0)\n",
    "\n",
    "#Параметры нагревающей среды:\n",
    "streams.loc[\"IN-HEAT\", \"G\"] = 509\n",
    "gas  = \"N2;0.78;O2;0.1;CO2;0.02;H2O;0.1\"\n",
    "Tin  = 183.6\n",
    "Pgas = 0.1\n",
    "Tout = 80\n",
    "\n",
    "#Параметры охлаждающей среды:\n",
    "streams.loc[\"IN-COND\", \"G\"] = 1000\n",
    "fluidcond  = \"WATER\"\n",
    "Tfluidcond = 15\n",
    "Pfluidcond = 0.15\n",
    "\n",
    "#Параметры ОЦР:\n",
    "streams.loc[\"COND-PUMP\", \"G\"] = 1000\n",
    "fluid   = \"R236ea\"\n",
    "KPDpump = 0.85\n",
    "KPDturb = 0.85\n",
    "DTheat  = 10\n",
    "DTcond  = 5\n",
    "Pcond   = prop.t_q(30,0,fluid)[\"P\"]\n",
    "Ppump   = 3.3\n",
    "\n",
    "#Внесение входных данных в таблицу:\n",
    "streams.loc[\"IN-HEAT\",   \"T\":\"Q\"] = list(prop.t_p(Tin,        Pgas,       gas)      .values())\n",
    "streams.loc[\"IN-COND\",   \"T\":\"Q\"] = list(prop.t_p(Tfluidcond, Pfluidcond, fluidcond).values())\n",
    "streams.loc[\"COND-PUMP\", \"T\":\"Q\"] = list(prop.p_q(Pcond,      0,          fluid)    .values())\n",
    "\n",
    "#Итеративный расчет для сведения баланса:\n",
    "init(streams, blocks, fluid, gas, fluidcond)\n",
    "for i in range(9999):\n",
    "    \n",
    "    pump.calc     (\"COND-PUMP\", \"PUMP-HEAT\",                           Ppump, KPDpump)\n",
    "    heater.calc   (\"IN-HEAT\",   \"HEAT-OUT\",  \"PUMP-HEAT\", \"HEAT-TURB\", Tout,  DTheat )\n",
    "    turbine.calc  (\"HEAT-TURB\", \"TURB-COND\",                           Pcond, KPDturb)\n",
    "    condenser.calc(\"TURB-COND\",  \"COND-PUMP\", \"IN-COND\",  \"COND-OUT\",         DTcond )\n",
    "\n",
    "    Qbalance = (blocks.loc[\"HEATER\",\"Q\"] + blocks.loc[\"PUMP\",\"N\"] - blocks.loc[\"CONDENSER\",\"Q\"] - blocks.loc[\"TURBINE\",\"N\"])/blocks.loc[\"HEATER\",\"Q\"]\n",
    "    if abs(Qbalance) < 10**-4:\n",
    "        break\n",
    "\n",
    "KPD = (blocks.loc[\"TURBINE\",\"N\"] - blocks.loc[\"PUMP\",\"N\"])/blocks.loc[\"HEATER\",\"Q\"]\n",
    "print(\"KPD:\",round(KPD*100, 5))"
   ]
  },
  {
   "cell_type": "code",
   "execution_count": 2,
   "id": "62c10570",
   "metadata": {},
   "outputs": [
    {
     "data": {
      "text/html": [
       "<div>\n",
       "<style scoped>\n",
       "    .dataframe tbody tr th:only-of-type {\n",
       "        vertical-align: middle;\n",
       "    }\n",
       "\n",
       "    .dataframe tbody tr th {\n",
       "        vertical-align: top;\n",
       "    }\n",
       "\n",
       "    .dataframe thead th {\n",
       "        text-align: right;\n",
       "    }\n",
       "</style>\n",
       "<table border=\"1\" class=\"dataframe\">\n",
       "  <thead>\n",
       "    <tr style=\"text-align: right;\">\n",
       "      <th></th>\n",
       "      <th>T</th>\n",
       "      <th>P</th>\n",
       "      <th>H</th>\n",
       "      <th>S</th>\n",
       "      <th>Q</th>\n",
       "      <th>G</th>\n",
       "    </tr>\n",
       "  </thead>\n",
       "  <tbody>\n",
       "    <tr>\n",
       "      <th>IN-HEAT</th>\n",
       "      <td>183.600000</td>\n",
       "      <td>0.100000</td>\n",
       "      <td>628.266954</td>\n",
       "      <td>7.349244</td>\n",
       "      <td>1.0</td>\n",
       "      <td>509.000000</td>\n",
       "    </tr>\n",
       "    <tr>\n",
       "      <th>HEAT-OUT</th>\n",
       "      <td>80.000000</td>\n",
       "      <td>0.100000</td>\n",
       "      <td>515.655043</td>\n",
       "      <td>7.069707</td>\n",
       "      <td>1.0</td>\n",
       "      <td>509.000000</td>\n",
       "    </tr>\n",
       "    <tr>\n",
       "      <th>COND-PUMP</th>\n",
       "      <td>30.000000</td>\n",
       "      <td>0.244324</td>\n",
       "      <td>237.395788</td>\n",
       "      <td>1.129466</td>\n",
       "      <td>0.0</td>\n",
       "      <td>234.935940</td>\n",
       "    </tr>\n",
       "    <tr>\n",
       "      <th>PUMP-HEAT</th>\n",
       "      <td>31.481898</td>\n",
       "      <td>3.300000</td>\n",
       "      <td>239.936592</td>\n",
       "      <td>1.130717</td>\n",
       "      <td>0.0</td>\n",
       "      <td>234.935940</td>\n",
       "    </tr>\n",
       "    <tr>\n",
       "      <th>HEAT-TURB</th>\n",
       "      <td>159.534706</td>\n",
       "      <td>3.300000</td>\n",
       "      <td>483.915709</td>\n",
       "      <td>1.777164</td>\n",
       "      <td>1.0</td>\n",
       "      <td>234.935940</td>\n",
       "    </tr>\n",
       "    <tr>\n",
       "      <th>TURB-COND</th>\n",
       "      <td>87.704828</td>\n",
       "      <td>0.244324</td>\n",
       "      <td>444.285894</td>\n",
       "      <td>1.796742</td>\n",
       "      <td>1.0</td>\n",
       "      <td>234.935940</td>\n",
       "    </tr>\n",
       "    <tr>\n",
       "      <th>IN-COND</th>\n",
       "      <td>15.000000</td>\n",
       "      <td>0.150000</td>\n",
       "      <td>63.123431</td>\n",
       "      <td>0.224441</td>\n",
       "      <td>0.0</td>\n",
       "      <td>813.162737</td>\n",
       "    </tr>\n",
       "    <tr>\n",
       "      <th>COND-OUT</th>\n",
       "      <td>29.289539</td>\n",
       "      <td>0.150000</td>\n",
       "      <td>122.897347</td>\n",
       "      <td>0.426903</td>\n",
       "      <td>0.0</td>\n",
       "      <td>813.162737</td>\n",
       "    </tr>\n",
       "  </tbody>\n",
       "</table>\n",
       "</div>"
      ],
      "text/plain": [
       "                    T         P           H         S    Q           G\n",
       "IN-HEAT    183.600000  0.100000  628.266954  7.349244  1.0  509.000000\n",
       "HEAT-OUT    80.000000  0.100000  515.655043  7.069707  1.0  509.000000\n",
       "COND-PUMP   30.000000  0.244324  237.395788  1.129466  0.0  234.935940\n",
       "PUMP-HEAT   31.481898  3.300000  239.936592  1.130717  0.0  234.935940\n",
       "HEAT-TURB  159.534706  3.300000  483.915709  1.777164  1.0  234.935940\n",
       "TURB-COND   87.704828  0.244324  444.285894  1.796742  1.0  234.935940\n",
       "IN-COND     15.000000  0.150000   63.123431  0.224441  0.0  813.162737\n",
       "COND-OUT    29.289539  0.150000  122.897347  0.426903  0.0  813.162737"
      ]
     },
     "execution_count": 2,
     "metadata": {},
     "output_type": "execute_result"
    }
   ],
   "source": [
    "streams"
   ]
  },
  {
   "cell_type": "code",
   "execution_count": 3,
   "id": "5ddbeef9",
   "metadata": {},
   "outputs": [
    {
     "data": {
      "image/png": "[encoded data removed]",
      "text/plain": [
       "<Figure size 1152x288 with 2 Axes>"
      ]
     },
     "metadata": {
      "needs_background": "light"
     },
     "output_type": "display_data"
    }
   ],
   "source": [
    "import matplotlib.pyplot as plt\n",
    "plt.rcParams[\"font.family\"] = \"Times New Roman\"\n",
    "plt.rcParams[\"font.size\"] = 12\n",
    "plt.figure(figsize=(16, 4))\n",
    "plt.subplot(1, 2, 1)\n",
    "heater.TQ(\"IN-HEAT\", \"HEAT-OUT\", \"PUMP-HEAT\", \"HEAT-TURB\")\n",
    "plt.subplot(1, 2, 2)\n",
    "condenser.TQ(\"TURB-COND\", \"COND-PUMP\", \"IN-COND\", \"COND-OUT\")\n",
    "plt.show()"
   ]
  }
 ],
 "metadata": {
  "kernelspec": {
   "display_name": "Python 3 (ipykernel)",
   "language": "python",
   "name": "python3"
  },
  "language_info": {
   "codemirror_mode": {
    "name": "ipython",
    "version": 3
   },
   "file_extension": ".py",
   "mimetype": "text/x-python",
   "name": "python",
   "nbconvert_exporter": "python",
   "pygments_lexer": "ipython3",
   "version": "3.9.12"
  }
 },
 "nbformat": 4,
 "nbformat_minor": 5
}
