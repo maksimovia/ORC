{
 "cells": [
  {
   "cell_type": "code",
   "execution_count": 2,
   "id": "e2b0b0db",
   "metadata": {},
   "outputs": [
    {
     "name": "stdout",
     "output_type": "stream",
     "text": [
      "541.5510617568199\n"
     ]
    }
   ],
   "source": [
    "from CoolProp.CoolProp import PropsSI as prop\n",
    "import json, CoolProp.CoolProp as CP\n",
    "CP.set_config_string(CP.ALTERNATIVE_REFPROP_PATH, 'C:/Program Files (x86)/REFPROP')\n",
    "\n",
    "def t_p(T,P,fluid):\n",
    "    T = T\n",
    "    H = prop('H','T', T+273.15, 'P', P*10**6, fluid)/1000\n",
    "    P = P\n",
    "    return {'T':T,'P':P,'H':H}\n",
    "\n",
    "def h_p(H,P,fluid):\n",
    "    T = prop('T','H', H*1000, 'P', P*10**6, fluid)-273.15\n",
    "    H = H\n",
    "    P = P\n",
    "    Q = prop('Q','H', H*1000, 'P', P*10**6, fluid)-273.15\n",
    "    return {'T':T,'P':P,'H':H,'Q':Q}\n",
    "\n",
    "def p_q(P,Q,fluid):\n",
    "    T = prop('T','Q', Q, 'P', P*10**6, fluid)-273.15\n",
    "    H = prop('H','Q', Q, 'P', P*10**6, fluid)/1000\n",
    "    P = P\n",
    "    Q = Q\n",
    "    return {'T':T,'P':P,'H':H,'Q':Q}"
   ]
  },
  {
   "cell_type": "code",
   "execution_count": null,
   "id": "8773f2be",
   "metadata": {},
   "outputs": [],
   "source": []
  }
 ],
 "metadata": {
  "kernelspec": {
   "display_name": "Python 3 (ipykernel)",
   "language": "python",
   "name": "python3"
  },
  "language_info": {
   "codemirror_mode": {
    "name": "ipython",
    "version": 3
   },
   "file_extension": ".py",
   "mimetype": "text/x-python",
   "name": "python",
   "nbconvert_exporter": "python",
   "pygments_lexer": "ipython3",
   "version": "3.9.13"
  }
 },
 "nbformat": 4,
 "nbformat_minor": 5
}
