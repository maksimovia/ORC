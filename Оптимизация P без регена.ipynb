{
 "cells": [
  {
   "cell_type": "code",
   "execution_count": 11,
   "id": "23cdbaba",
   "metadata": {
    "scrolled": false
   },
   "outputs": [
    {
     "ename": "ValueError",
     "evalue": "HmolarPmolar: [PHFLSH error 1] One or more inputs are out of range; Temperature below triple-point or minimum temperature: T = 59.6878 K, Tmin = 59.7500 K.                                                                                                                 ",
     "output_type": "error",
     "traceback": [
      "\u001b[1;31m---------------------------------------------------------------------------\u001b[0m",
      "\u001b[1;31mValueError\u001b[0m                                Traceback (most recent call last)",
      "Input \u001b[1;32mIn [11]\u001b[0m, in \u001b[0;36m<cell line: 34>\u001b[1;34m()\u001b[0m\n\u001b[0;32m     50\u001b[0m pump\u001b[38;5;241m.\u001b[39mcalc     (\u001b[38;5;124m\"\u001b[39m\u001b[38;5;124mCOND-PUMP\u001b[39m\u001b[38;5;124m\"\u001b[39m, \u001b[38;5;124m\"\u001b[39m\u001b[38;5;124mPUMP-REG\u001b[39m\u001b[38;5;124m\"\u001b[39m,                          Ppump,  KPDpump,     fluid, streams, blocks)\n\u001b[0;32m     51\u001b[0m streams\u001b[38;5;241m.\u001b[39mloc[\u001b[38;5;124m\"\u001b[39m\u001b[38;5;124mREG-HEAT\u001b[39m\u001b[38;5;124m\"\u001b[39m, \u001b[38;5;124m\"\u001b[39m\u001b[38;5;124mT\u001b[39m\u001b[38;5;124m\"\u001b[39m:\u001b[38;5;124m\"\u001b[39m\u001b[38;5;124mQ\u001b[39m\u001b[38;5;124m\"\u001b[39m] \u001b[38;5;241m=\u001b[39m streams\u001b[38;5;241m.\u001b[39mloc[\u001b[38;5;124m\"\u001b[39m\u001b[38;5;124mPUMP-REG\u001b[39m\u001b[38;5;124m\"\u001b[39m, \u001b[38;5;124m\"\u001b[39m\u001b[38;5;124mT\u001b[39m\u001b[38;5;124m\"\u001b[39m:\u001b[38;5;124m\"\u001b[39m\u001b[38;5;124mQ\u001b[39m\u001b[38;5;124m\"\u001b[39m] \u001b[38;5;66;03m#Игнор регенератора\u001b[39;00m\n\u001b[1;32m---> 52\u001b[0m \u001b[43mheater\u001b[49m\u001b[38;5;241;43m.\u001b[39;49m\u001b[43mcalc\u001b[49m\u001b[43m   \u001b[49m\u001b[43m(\u001b[49m\u001b[38;5;124;43m\"\u001b[39;49m\u001b[38;5;124;43mIN-HEAT\u001b[39;49m\u001b[38;5;124;43m\"\u001b[39;49m\u001b[43m,\u001b[49m\u001b[43m   \u001b[49m\u001b[38;5;124;43m\"\u001b[39;49m\u001b[38;5;124;43mHEAT-OUT\u001b[39;49m\u001b[38;5;124;43m\"\u001b[39;49m\u001b[43m,\u001b[49m\u001b[43m  \u001b[49m\u001b[38;5;124;43m\"\u001b[39;49m\u001b[38;5;124;43mREG-HEAT\u001b[39;49m\u001b[38;5;124;43m\"\u001b[39;49m\u001b[43m,\u001b[49m\u001b[38;5;124;43m\"\u001b[39;49m\u001b[38;5;124;43mHEAT-TURB\u001b[39;49m\u001b[38;5;124;43m\"\u001b[39;49m\u001b[43m,\u001b[49m\u001b[43m \u001b[49m\u001b[43mTout\u001b[49m\u001b[43m,\u001b[49m\u001b[43m   \u001b[49m\u001b[43mDTheat\u001b[49m\u001b[43m,\u001b[49m\u001b[43m \u001b[49m\u001b[43mgas\u001b[49m\u001b[43m,\u001b[49m\u001b[43m \u001b[49m\u001b[43mfluid\u001b[49m\u001b[43m,\u001b[49m\u001b[43m \u001b[49m\u001b[43mstreams\u001b[49m\u001b[43m,\u001b[49m\u001b[43m \u001b[49m\u001b[43mblocks\u001b[49m\u001b[43m)\u001b[49m\n\u001b[0;32m     53\u001b[0m turbine\u001b[38;5;241m.\u001b[39mcalc  (\u001b[38;5;124m\"\u001b[39m\u001b[38;5;124mHEAT-TURB\u001b[39m\u001b[38;5;124m\"\u001b[39m, \u001b[38;5;124m\"\u001b[39m\u001b[38;5;124mTURB-REG\u001b[39m\u001b[38;5;124m\"\u001b[39m,                          Pcond,  KPDturb,     fluid, streams, blocks)\n\u001b[0;32m     54\u001b[0m streams\u001b[38;5;241m.\u001b[39mloc[\u001b[38;5;124m\"\u001b[39m\u001b[38;5;124mREG-COND\u001b[39m\u001b[38;5;124m\"\u001b[39m, \u001b[38;5;124m\"\u001b[39m\u001b[38;5;124mT\u001b[39m\u001b[38;5;124m\"\u001b[39m:\u001b[38;5;124m\"\u001b[39m\u001b[38;5;124mQ\u001b[39m\u001b[38;5;124m\"\u001b[39m] \u001b[38;5;241m=\u001b[39m streams\u001b[38;5;241m.\u001b[39mloc[\u001b[38;5;124m\"\u001b[39m\u001b[38;5;124mTURB-REG\u001b[39m\u001b[38;5;124m\"\u001b[39m, \u001b[38;5;124m\"\u001b[39m\u001b[38;5;124mT\u001b[39m\u001b[38;5;124m\"\u001b[39m:\u001b[38;5;124m\"\u001b[39m\u001b[38;5;124mQ\u001b[39m\u001b[38;5;124m\"\u001b[39m] \u001b[38;5;66;03m#Игнор регенератора\u001b[39;00m\n",
      "File \u001b[1;32mC:\\maximov\\py\\Github\\ORC\\modules.py:48\u001b[0m, in \u001b[0;36mheater.calc\u001b[1;34m(stream11, stream12, stream21, stream22, Toutmin, minDTheater, fluid1, fluid2, streams, blocks)\u001b[0m\n\u001b[0;32m     46\u001b[0m     minDT\u001b[38;5;241m=\u001b[39m\u001b[38;5;28mround\u001b[39m(\u001b[38;5;28mmin\u001b[39m(DT),\u001b[38;5;241m5\u001b[39m)\n\u001b[0;32m     47\u001b[0m     \u001b[38;5;28;01mreturn\u001b[39;00m minDT\u001b[38;5;241m-\u001b[39mminDTheater\n\u001b[1;32m---> 48\u001b[0m sol \u001b[38;5;241m=\u001b[39m \u001b[43mroot\u001b[49m\u001b[43m(\u001b[49m\u001b[43mG2sved\u001b[49m\u001b[43m,\u001b[49m\u001b[43m \u001b[49m\u001b[43mG2\u001b[49m\u001b[43m)\u001b[49m\n\u001b[0;32m     49\u001b[0m G2 \u001b[38;5;241m=\u001b[39m \u001b[38;5;28mfloat\u001b[39m(sol\u001b[38;5;241m.\u001b[39mx)\n\u001b[0;32m     51\u001b[0m t1  \u001b[38;5;241m=\u001b[39m np\u001b[38;5;241m.\u001b[39mzeros(s\u001b[38;5;241m+\u001b[39m\u001b[38;5;241m1\u001b[39m)\n",
      "File \u001b[1;32mC:\\ProgramData\\Anaconda3\\lib\\site-packages\\scipy\\optimize\\_root.py:187\u001b[0m, in \u001b[0;36mroot\u001b[1;34m(fun, x0, args, method, jac, tol, callback, options)\u001b[0m\n\u001b[0;32m    184\u001b[0m         options\u001b[38;5;241m.\u001b[39msetdefault(\u001b[38;5;124m'\u001b[39m\u001b[38;5;124mfatol\u001b[39m\u001b[38;5;124m'\u001b[39m, np\u001b[38;5;241m.\u001b[39minf)\n\u001b[0;32m    186\u001b[0m \u001b[38;5;28;01mif\u001b[39;00m meth \u001b[38;5;241m==\u001b[39m \u001b[38;5;124m'\u001b[39m\u001b[38;5;124mhybr\u001b[39m\u001b[38;5;124m'\u001b[39m:\n\u001b[1;32m--> 187\u001b[0m     sol \u001b[38;5;241m=\u001b[39m _root_hybr(fun, x0, args\u001b[38;5;241m=\u001b[39margs, jac\u001b[38;5;241m=\u001b[39mjac, \u001b[38;5;241m*\u001b[39m\u001b[38;5;241m*\u001b[39moptions)\n\u001b[0;32m    188\u001b[0m \u001b[38;5;28;01melif\u001b[39;00m meth \u001b[38;5;241m==\u001b[39m \u001b[38;5;124m'\u001b[39m\u001b[38;5;124mlm\u001b[39m\u001b[38;5;124m'\u001b[39m:\n\u001b[0;32m    189\u001b[0m     sol \u001b[38;5;241m=\u001b[39m _root_leastsq(fun, x0, args\u001b[38;5;241m=\u001b[39margs, jac\u001b[38;5;241m=\u001b[39mjac, \u001b[38;5;241m*\u001b[39m\u001b[38;5;241m*\u001b[39moptions)\n",
      "File \u001b[1;32mC:\\ProgramData\\Anaconda3\\lib\\site-packages\\scipy\\optimize\\minpack.py:237\u001b[0m, in \u001b[0;36m_root_hybr\u001b[1;34m(func, x0, args, jac, col_deriv, xtol, maxfev, band, eps, factor, diag, **unknown_options)\u001b[0m\n\u001b[0;32m    235\u001b[0m     \u001b[38;5;28;01mif\u001b[39;00m maxfev \u001b[38;5;241m==\u001b[39m \u001b[38;5;241m0\u001b[39m:\n\u001b[0;32m    236\u001b[0m         maxfev \u001b[38;5;241m=\u001b[39m \u001b[38;5;241m200\u001b[39m \u001b[38;5;241m*\u001b[39m (n \u001b[38;5;241m+\u001b[39m \u001b[38;5;241m1\u001b[39m)\n\u001b[1;32m--> 237\u001b[0m     retval \u001b[38;5;241m=\u001b[39m \u001b[43m_minpack\u001b[49m\u001b[38;5;241;43m.\u001b[39;49m\u001b[43m_hybrd\u001b[49m\u001b[43m(\u001b[49m\u001b[43mfunc\u001b[49m\u001b[43m,\u001b[49m\u001b[43m \u001b[49m\u001b[43mx0\u001b[49m\u001b[43m,\u001b[49m\u001b[43m \u001b[49m\u001b[43margs\u001b[49m\u001b[43m,\u001b[49m\u001b[43m \u001b[49m\u001b[38;5;241;43m1\u001b[39;49m\u001b[43m,\u001b[49m\u001b[43m \u001b[49m\u001b[43mxtol\u001b[49m\u001b[43m,\u001b[49m\u001b[43m \u001b[49m\u001b[43mmaxfev\u001b[49m\u001b[43m,\u001b[49m\n\u001b[0;32m    238\u001b[0m \u001b[43m                             \u001b[49m\u001b[43mml\u001b[49m\u001b[43m,\u001b[49m\u001b[43m \u001b[49m\u001b[43mmu\u001b[49m\u001b[43m,\u001b[49m\u001b[43m \u001b[49m\u001b[43mepsfcn\u001b[49m\u001b[43m,\u001b[49m\u001b[43m \u001b[49m\u001b[43mfactor\u001b[49m\u001b[43m,\u001b[49m\u001b[43m \u001b[49m\u001b[43mdiag\u001b[49m\u001b[43m)\u001b[49m\n\u001b[0;32m    239\u001b[0m \u001b[38;5;28;01melse\u001b[39;00m:\n\u001b[0;32m    240\u001b[0m     _check_func(\u001b[38;5;124m'\u001b[39m\u001b[38;5;124mfsolve\u001b[39m\u001b[38;5;124m'\u001b[39m, \u001b[38;5;124m'\u001b[39m\u001b[38;5;124mfprime\u001b[39m\u001b[38;5;124m'\u001b[39m, Dfun, x0, args, n, (n, n))\n",
      "File \u001b[1;32mC:\\maximov\\py\\Github\\ORC\\modules.py:37\u001b[0m, in \u001b[0;36mheater.calc.<locals>.G2sved\u001b[1;34m(G2)\u001b[0m\n\u001b[0;32m     35\u001b[0m         Q[i\u001b[38;5;241m+\u001b[39m\u001b[38;5;241m1\u001b[39m] \u001b[38;5;241m=\u001b[39m Q[i]\u001b[38;5;241m+\u001b[39mdQ\n\u001b[0;32m     36\u001b[0m \u001b[38;5;28;01mfor\u001b[39;00m i \u001b[38;5;129;01min\u001b[39;00m \u001b[38;5;28mrange\u001b[39m(s\u001b[38;5;241m+\u001b[39m\u001b[38;5;241m1\u001b[39m):\n\u001b[1;32m---> 37\u001b[0m     t2[s\u001b[38;5;241m-\u001b[39mi] \u001b[38;5;241m=\u001b[39m \u001b[43mprop\u001b[49m\u001b[38;5;241;43m.\u001b[39;49m\u001b[43mh_p\u001b[49m\u001b[43m(\u001b[49m\u001b[43mh21\u001b[49m\u001b[43m,\u001b[49m\u001b[43mP2\u001b[49m\u001b[43m,\u001b[49m\u001b[43mfluid2\u001b[49m\u001b[43m)\u001b[49m[\u001b[38;5;124m\"\u001b[39m\u001b[38;5;124mT\u001b[39m\u001b[38;5;124m\"\u001b[39m]\n\u001b[0;32m     38\u001b[0m     \u001b[38;5;28;01mif\u001b[39;00m i \u001b[38;5;241m<\u001b[39m s:\n\u001b[0;32m     39\u001b[0m         h22 \u001b[38;5;241m=\u001b[39m h21\u001b[38;5;241m+\u001b[39m(Q[s\u001b[38;5;241m-\u001b[39mi]\u001b[38;5;241m-\u001b[39mQ[s\u001b[38;5;241m-\u001b[39mi\u001b[38;5;241m-\u001b[39m\u001b[38;5;241m1\u001b[39m])\u001b[38;5;241m/\u001b[39mG2\n",
      "File \u001b[1;32mC:\\maximov\\py\\Github\\ORC\\prop.py:18\u001b[0m, in \u001b[0;36mh_p\u001b[1;34m(H, P, fluid)\u001b[0m\n\u001b[0;32m     17\u001b[0m \u001b[38;5;28;01mdef\u001b[39;00m \u001b[38;5;21mh_p\u001b[39m(H,P,fluid):\n\u001b[1;32m---> 18\u001b[0m     T \u001b[38;5;241m=\u001b[39m \u001b[43mprop\u001b[49m\u001b[43m(\u001b[49m\u001b[38;5;124;43m'\u001b[39;49m\u001b[38;5;124;43mT\u001b[39;49m\u001b[38;5;124;43m'\u001b[39;49m\u001b[43m,\u001b[49m\u001b[38;5;124;43m'\u001b[39;49m\u001b[38;5;124;43mH\u001b[39;49m\u001b[38;5;124;43m'\u001b[39;49m\u001b[43m,\u001b[49m\u001b[43m \u001b[49m\u001b[43mH\u001b[49m\u001b[38;5;241;43m*\u001b[39;49m\u001b[38;5;241;43m1000\u001b[39;49m\u001b[43m,\u001b[49m\u001b[43m \u001b[49m\u001b[38;5;124;43m'\u001b[39;49m\u001b[38;5;124;43mP\u001b[39;49m\u001b[38;5;124;43m'\u001b[39;49m\u001b[43m,\u001b[49m\u001b[43m \u001b[49m\u001b[43mP\u001b[49m\u001b[38;5;241;43m*\u001b[39;49m\u001b[38;5;241;43m10\u001b[39;49m\u001b[38;5;241;43m*\u001b[39;49m\u001b[38;5;241;43m*\u001b[39;49m\u001b[38;5;241;43m6\u001b[39;49m\u001b[43m,\u001b[49m\u001b[43m \u001b[49m\u001b[43mfluid\u001b[49m\u001b[43m)\u001b[49m\u001b[38;5;241m-\u001b[39m\u001b[38;5;241m273.15\u001b[39m\n\u001b[0;32m     19\u001b[0m     H \u001b[38;5;241m=\u001b[39m H\n\u001b[0;32m     20\u001b[0m     P \u001b[38;5;241m=\u001b[39m P\n",
      "File \u001b[1;32mCoolProp\\CoolProp.pyx:373\u001b[0m, in \u001b[0;36mCoolProp.CoolProp.PropsSI\u001b[1;34m()\u001b[0m\n",
      "File \u001b[1;32mCoolProp\\CoolProp.pyx:460\u001b[0m, in \u001b[0;36mCoolProp.CoolProp.PropsSI\u001b[1;34m()\u001b[0m\n",
      "\u001b[1;31mValueError\u001b[0m: HmolarPmolar: [PHFLSH error 1] One or more inputs are out of range; Temperature below triple-point or minimum temperature: T = 59.6878 K, Tmin = 59.7500 K.                                                                                                                 "
     ]
    }
   ],
   "source": [
    "import prop\n",
    "import pandas as pd\n",
    "import matplotlib.pyplot as plt\n",
    "from modules import pump, regen, heater, turbine, condenser\n",
    "\n",
    "#Таблица с потоками и блоками:\n",
    "streams = pd.read_excel(\"streams.xlsx\",index_col=0)\n",
    "blocks  = pd.read_excel(\"blocks.xlsx\" ,index_col=0)\n",
    "\n",
    "#Параметры нагревающей среды:\n",
    "gas  = 'REFPROP::N2[0.7757]&O2[0.1068]&CO2[0.0193]&H2O[0.0936]&Ar[0.0046]' #Состав газа\n",
    "Tin  = 183.6                                                               #Температура газов на входе\n",
    "Pgas = 0.1                                                                 #Давление газов\n",
    "Ggas = 509                                                                 #Расход газов\n",
    "Tout = 80                                                                  #Температура газов на выходе\n",
    "\n",
    "#Параметры охлаждающей среды:\n",
    "fluidcond  = \"REFPROP::WATER\"  #Охлаждающая среда\n",
    "Tfluidcond = 15                #Температура охл. среды\n",
    "Pfluidcond = 0.5               #Давление охл. среды\n",
    "\n",
    "#Параметры ОЦР:\n",
    "fluid   = \"REFPROP::AIR\"    #Рабочая среда цикла\n",
    "# Ppump   = 0.9                  #Давление на выходе из насоса\n",
    "Pcond   = 0.1                #Давление в конденсаторе\n",
    "KPDpump = 0.8                  #КПД насоса\n",
    "KPDturb = 0.9                  #КПД турбины\n",
    "DTheat  = 20                   #Минимальный напор в нагревателе\n",
    "DTcond  = 5                    #Минимальный напор в конденсаторе\n",
    "\n",
    "\n",
    "\n",
    "Ppump   = 0.5\n",
    "for i in range(20):\n",
    "    \n",
    "    #Внесение входных данных в таблицу:\n",
    "    streams.loc[\"IN-HEAT\", \"T\":\"Q\"] = [Tin,Pgas,prop.t_p(Tin,Pgas,gas)[\"H\"],prop.t_p(Tin,Pgas,gas)[\"S\"],Ggas,1]\n",
    "    streams.loc[\"IN-COND\", \"T\":\"Q\"] = [Tfluidcond,Pfluidcond,prop.t_p(Tfluidcond,Pfluidcond,fluidcond)[\"H\"],prop.t_p(Tfluidcond,Pfluidcond,fluidcond)[\"S\"],1000,0]\n",
    "\n",
    "    #Начало расчёта - задание расхода на первой итерации:\n",
    "    G = Ggas*(prop.t_p(Tin,Pgas,gas)[\"H\"]-prop.t_p(Tout,Pgas,gas)[\"H\"])/(prop.t_p(Tin,Ppump,fluid)[\"H\"]-prop.t_p(Tout,Ppump,fluid)[\"H\"])\n",
    "\n",
    "    #Поток перед насосом:\n",
    "    streams.loc[\"COND-PUMP\", \"T\":\"Q\"] = [prop.p_q(Pcond,0,fluid)[\"T\"],Pcond,prop.p_q(Pcond,0,fluid)['H'],prop.p_q(Pcond,0,fluid)['S'],G,0]\n",
    "\n",
    "    #Итеративный расчет для сведения баланса:\n",
    "    for i in range(100):\n",
    "\n",
    "        #Расчет цикла:\n",
    "        pump.calc     (\"COND-PUMP\", \"PUMP-REG\",                          Ppump,  KPDpump,     fluid, streams, blocks)\n",
    "        streams.loc[\"REG-HEAT\", \"T\":\"Q\"] = streams.loc[\"PUMP-REG\", \"T\":\"Q\"] #Игнор регенератора\n",
    "        heater.calc   (\"IN-HEAT\",   \"HEAT-OUT\",  \"REG-HEAT\",\"HEAT-TURB\", Tout,   DTheat, gas, fluid, streams, blocks)\n",
    "        turbine.calc  (\"HEAT-TURB\", \"TURB-REG\",                          Pcond,  KPDturb,     fluid, streams, blocks)\n",
    "        streams.loc[\"REG-COND\", \"T\":\"Q\"] = streams.loc[\"TURB-REG\", \"T\":\"Q\"] #Игнор регенератора\n",
    "        condenser.calc(\"REG-COND\",  \"COND-PUMP\", \"IN-COND\" ,\"COND-OUT\",  DTcond, fluidcond,   fluid, streams, blocks)\n",
    "\n",
    "        #Тепловой баланс:\n",
    "        Qbalance = blocks.loc['HEATER','Q']+blocks.loc['PUMP','N']-blocks.loc['CONDENSER','Q']-blocks.loc['TURBINE','N']\n",
    "        print(i,round(Qbalance,5))\n",
    "\n",
    "        #Выход из цикла при сведении баланса до требуемого уровня (в кВт):\n",
    "        if abs(Qbalance) < 10**-2:\n",
    "            print('+')\n",
    "            break\n",
    "    #КПД цикла:\n",
    "    KPD = 100*(blocks.loc['TURBINE','N']-blocks.loc['PUMP','N'])/blocks.loc['HEATER','Q']\n",
    "    Qturb = streams.loc[\"TURB-REG\", \"Q\"]\n",
    "    print('КПД цикла: ', round(KPD,3),'%', 'P=',Ppump, 'Q=',Qturb)\n",
    "\n",
    "    Ppump   = Ppump+0.01\n"
   ]
  },
  {
   "cell_type": "code",
   "execution_count": null,
   "id": "cd0cc1f6",
   "metadata": {},
   "outputs": [],
   "source": []
  }
 ],
 "metadata": {
  "kernelspec": {
   "display_name": "Python 3 (ipykernel)",
   "language": "python",
   "name": "python3"
  },
  "language_info": {
   "codemirror_mode": {
    "name": "ipython",
    "version": 3
   },
   "file_extension": ".py",
   "mimetype": "text/x-python",
   "name": "python",
   "nbconvert_exporter": "python",
   "pygments_lexer": "ipython3",
   "version": "3.9.12"
  }
 },
 "nbformat": 4,
 "nbformat_minor": 5
}
